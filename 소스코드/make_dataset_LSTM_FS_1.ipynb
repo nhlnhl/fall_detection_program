{
 "cells": [
  {
   "cell_type": "code",
   "execution_count": 1,
   "metadata": {},
   "outputs": [
    {
     "name": "stderr",
     "output_type": "stream",
     "text": [
      "c:\\users\\a jin cho\\appdata\\local\\programs\\python\\python36\\lib\\site-packages\\ipykernel_launcher.py:19: FutureWarning: Method .as_matrix will be removed in a future version. Use .values instead.\n"
     ]
    }
   ],
   "source": [
    "import pandas as pd\n",
    "import numpy as np\n",
    "import math\n",
    "\n",
    "raw_data = pd.read_csv(\"CompleteDataSet_training_competition_1500.csv\", sep=\",\")\n",
    "\n",
    "data = raw_data[['WristAccelerometer x-axis', 'WristAccelerometer y-axis', 'WristAccelerometer z-axis', 'Activity']]\n",
    "\n",
    "n_step = 1500\n",
    "n_batch = int(data.shape[0] / n_step)\n",
    "\n",
    "# variables used in the paper\n",
    "k = 15\n",
    "t = 3\n",
    "K = 300\n",
    "\n",
    "xyz = 3\n",
    "\n",
    "data = data.as_matrix()\n",
    "calculate = np.zeros([n_batch * int(k / t), 12 + 1])\n",
    "\n",
    "# for each data\n",
    "for i in range(n_batch):\n",
    "    r1 = np.zeros([xyz])\n",
    "    r2 = np.zeros([xyz])\n",
    "    \n",
    "    # for each sliding window\n",
    "    for j in range(int(k / t)):\n",
    "        calculate[int(k / t) * i + j][12] = data[i * n_step][xyz]\n",
    "        \n",
    "        l1 = np.zeros([xyz])\n",
    "        s1 = np.zeros([xyz])\n",
    "        for m in range(xyz):\n",
    "            l1[m] = data[i * n_step + j * K][m]\n",
    "            s1[m] = pow(data[i * n_step + j * K][m], 2)\n",
    "        \n",
    "        l = np.zeros([xyz])\n",
    "        s = np.zeros([xyz])\n",
    "        for m in range(K):\n",
    "            for n in range(xyz):\n",
    "                l[n] += data[i * n_step + j * K + m][n]\n",
    "                s[n] += pow(data[i * n_step + j * K + m][n], 2)\n",
    "        \n",
    "        for m in range(xyz):\n",
    "            r1[m] += (l[m] - l1[m])\n",
    "            r2[m] += (s[m] - s1[m])\n",
    "        \n",
    "            if not (j == 0):\n",
    "                calculate[int(k / t) * i + j][4 * m] = calculate[int(k / t) * i + j - 1][4 * m + 2]\n",
    "                calculate[int(k / t) * i + j][4 * m + 1] = calculate[int(k / t) * i + j - 1][4 * m + 3]\n",
    "            calculate[int(k / t) * i + j][4 * m + 2] = 2 * r1[m] / K\n",
    "            if (r2[m] - (2 * pow(r1[m], 2) / K)) >= 0:\n",
    "                calculate[int(k / t) * i + j][4 * m + 3] = math.sqrt((r2[m] - (2 * pow(r1[m], 2) / K)) / (K / 2 - 1))\n",
    "            else:\n",
    "                calculate[int(k / t) * i + j][4 * m + 3] = 0.0\n",
    "                \n",
    "data = pd.DataFrame(calculate)\n",
    "\n",
    "data.to_csv(\"./dataset/training_data_LSTM_FS_1_wrist.csv\", sep=\",\", header=False, index=False)"
   ]
  }
 ],
 "metadata": {
  "kernelspec": {
   "display_name": "Python 3",
   "language": "python",
   "name": "python3"
  },
  "language_info": {
   "codemirror_mode": {
    "name": "ipython",
    "version": 3
   },
   "file_extension": ".py",
   "mimetype": "text/x-python",
   "name": "python",
   "nbconvert_exporter": "python",
   "pygments_lexer": "ipython3",
   "version": "3.6.5"
  }
 },
 "nbformat": 4,
 "nbformat_minor": 2
}
