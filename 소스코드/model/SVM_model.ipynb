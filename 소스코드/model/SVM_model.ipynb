{
 "cells": [
  {
   "cell_type": "code",
   "execution_count": 1,
   "metadata": {},
   "outputs": [],
   "source": [
    "import matplotlib.pyplot as plt\n",
    "import numpy as np\n",
    "import tensorflow as tf\n",
    "from tensorflow.python.framework import ops\n",
    "ops.reset_default_graph()"
   ]
  },
  {
   "cell_type": "code",
   "execution_count": 2,
   "metadata": {},
   "outputs": [],
   "source": [
    "sess = tf.Session()"
   ]
  },
  {
   "cell_type": "code",
   "execution_count": 3,
   "metadata": {},
   "outputs": [
    {
     "name": "stdout",
     "output_type": "stream",
     "text": [
      "[[ 0.          0.          0.07258    ...  0.         -0.30658\n",
      "   0.9302627 ]\n",
      " [ 0.07258     0.27816638  0.09373333 ...  0.9302627  -1.6257533\n",
      "   0.25942332]\n",
      " [ 0.09373333  0.3508248  -0.10695333 ...  0.25942332 -3.5582533\n",
      "   0.        ]\n",
      " ...\n",
      " [ 0.62420666  0.          0.94689333 ...  0.          4.40462\n",
      "   0.        ]\n",
      " [ 0.94689333  0.          1.24714    ...  0.          5.83926\n",
      "   0.        ]\n",
      " [ 1.24714     0.          1.5427734  ...  0.          7.2513733\n",
      "   0.        ]]\n",
      "[[ 1  1  1 ... -1 -1 -1]\n",
      " [-1 -1 -1 ... -1 -1 -1]\n",
      " [-1 -1 -1 ... -1 -1 -1]\n",
      " ...\n",
      " [-1 -1 -1 ... -1 -1 -1]\n",
      " [-1 -1 -1 ... -1 -1 -1]\n",
      " [-1 -1 -1 ...  1  1  1]]\n",
      "(2010, 12)\n",
      "(11, 2010)\n"
     ]
    }
   ],
   "source": [
    "n_input = 12\n",
    "n_class = 11\n",
    "\n",
    "# Load the data\n",
    "data = np.loadtxt('../dataset/training_data_LSTM_FS_1_belt.csv', delimiter=',', dtype='float32')\n",
    "x_vals = data[:, :n_input]\n",
    "y_vals1 = np.array([1 if y==1 else -1 for y in data[:, 12]])\n",
    "y_vals2 = np.array([1 if y==2 else -1 for y in data[:, 12]])\n",
    "y_vals3 = np.array([1 if y==3 else -1 for y in data[:, 12]])\n",
    "y_vals4 = np.array([1 if y==4 else -1 for y in data[:, 12]])\n",
    "y_vals5 = np.array([1 if y==5 else -1 for y in data[:, 12]])\n",
    "y_vals6 = np.array([1 if y==6 else -1 for y in data[:, 12]])\n",
    "y_vals7 = np.array([1 if y==7 else -1 for y in data[:, 12]])\n",
    "y_vals8 = np.array([1 if y==8 else -1 for y in data[:, 12]])\n",
    "y_vals9 = np.array([1 if y==9 else -1 for y in data[:, 12]])\n",
    "y_vals10 = np.array([1 if y==10 else -1 for y in data[:, 12]])\n",
    "y_vals11 = np.array([1 if y==11 else -1 for y in data[:, 12]])\n",
    "y_vals = np.array([y_vals1, y_vals2, y_vals3, y_vals4, y_vals5, y_vals6, y_vals7, y_vals8, y_vals9, y_vals10, y_vals11])\n",
    "\n",
    "print(x_vals)\n",
    "print(y_vals)\n",
    "print(x_vals.shape)\n",
    "print(y_vals.shape)"
   ]
  },
  {
   "cell_type": "code",
   "execution_count": 4,
   "metadata": {},
   "outputs": [],
   "source": [
    "batch_size = 670"
   ]
  },
  {
   "cell_type": "code",
   "execution_count": 5,
   "metadata": {},
   "outputs": [
    {
     "name": "stdout",
     "output_type": "stream",
     "text": [
      "WARNING:tensorflow:From c:\\users\\a jin cho\\appdata\\local\\programs\\python\\python36\\lib\\site-packages\\tensorflow\\python\\framework\\op_def_library.py:263: colocate_with (from tensorflow.python.framework.ops) is deprecated and will be removed in a future version.\n",
      "Instructions for updating:\n",
      "Colocations handled automatically by placer.\n"
     ]
    }
   ],
   "source": [
    "# Initialize placeholders\n",
    "x_data = tf.placeholder(shape=[None, n_input], dtype=tf.float32)\n",
    "y_target = tf.placeholder(shape=[n_class, None], dtype=tf.float32)\n",
    "prediction_grid = tf.placeholder(shape=[None, n_input], dtype=tf.float32)\n",
    "\n",
    "# Create variables for svm\n",
    "b = tf.Variable(tf.random_normal(shape=[n_class,batch_size]))"
   ]
  },
  {
   "cell_type": "code",
   "execution_count": 6,
   "metadata": {},
   "outputs": [],
   "source": [
    "# Gaussian (RBF) kernel\n",
    "gamma = tf.constant(-10.0)\n",
    "dist = tf.reduce_sum(tf.square(x_data), 1)\n",
    "dist = tf.reshape(dist, [-1,1])\n",
    "sq_dists = tf.multiply(2., tf.matmul(x_data, tf.transpose(x_data)))\n",
    "my_kernel = tf.exp(tf.multiply(gamma, tf.abs(sq_dists)))"
   ]
  },
  {
   "cell_type": "code",
   "execution_count": 7,
   "metadata": {},
   "outputs": [],
   "source": [
    "# Declare function to do reshape/batch multiplication\n",
    "def reshape_matmul(mat, _size):\n",
    "    v1 = tf.expand_dims(mat, 1)\n",
    "    v2 = tf.reshape(v1, [n_class, _size, 1])\n",
    "    return(tf.matmul(v2, v1))"
   ]
  },
  {
   "cell_type": "code",
   "execution_count": 8,
   "metadata": {},
   "outputs": [],
   "source": [
    "# Compute SVM Model\n",
    "first_term = tf.reduce_sum(b)\n",
    "b_vec_cross = tf.matmul(tf.transpose(b), b)\n",
    "y_target_cross = reshape_matmul(y_target, batch_size)\n",
    "\n",
    "second_term = tf.reduce_sum(tf.multiply(my_kernel, tf.multiply(b_vec_cross, y_target_cross)),[1,2])\n",
    "loss = tf.reduce_sum(tf.negative(tf.subtract(first_term, second_term)))"
   ]
  },
  {
   "cell_type": "code",
   "execution_count": 9,
   "metadata": {},
   "outputs": [],
   "source": [
    "# Gaussian (RBF) prediction kernel\n",
    "rA = tf.reshape(tf.reduce_sum(tf.square(x_data), 1),[-1,1])\n",
    "rB = tf.reshape(tf.reduce_sum(tf.square(prediction_grid), 1),[-1,1])\n",
    "pred_sq_dist = tf.add(tf.subtract(rA, tf.multiply(2., tf.matmul(x_data, tf.transpose(prediction_grid)))), tf.transpose(rB))\n",
    "pred_kernel = tf.exp(tf.multiply(gamma, tf.abs(pred_sq_dist)))\n",
    "\n",
    "prediction_output = tf.matmul(tf.multiply(y_target,b), pred_kernel)\n",
    "prediction = tf.argmax(prediction_output-tf.expand_dims(tf.reduce_mean(prediction_output,1), 1), 0)\n",
    "accuracy = tf.reduce_mean(tf.cast(tf.equal(prediction, tf.argmax(y_target,0)), tf.float32))"
   ]
  },
  {
   "cell_type": "code",
   "execution_count": 10,
   "metadata": {},
   "outputs": [
    {
     "name": "stdout",
     "output_type": "stream",
     "text": [
      "WARNING:tensorflow:From c:\\users\\a jin cho\\appdata\\local\\programs\\python\\python36\\lib\\site-packages\\tensorflow\\python\\ops\\math_ops.py:3066: to_int32 (from tensorflow.python.ops.math_ops) is deprecated and will be removed in a future version.\n",
      "Instructions for updating:\n",
      "Use tf.cast instead.\n"
     ]
    }
   ],
   "source": [
    "# Declare optimizer\n",
    "my_opt = tf.train.GradientDescentOptimizer(0.01)\n",
    "train_step = my_opt.minimize(loss)\n",
    "\n",
    "# Initialize variables\n",
    "sess.run(tf.global_variables_initializer())"
   ]
  },
  {
   "cell_type": "code",
   "execution_count": 11,
   "metadata": {},
   "outputs": [
    {
     "name": "stdout",
     "output_type": "stream",
     "text": [
      "Step #1\n",
      "Loss = -22403.688\n",
      "Accuracy = 0.16268657\n",
      "Step #2\n",
      "Loss = -29361.95\n",
      "Accuracy = 0.18955223\n",
      "Step #3\n",
      "Loss = -32914.22\n",
      "Accuracy = 0.23283581\n",
      "Step #4\n",
      "Loss = -37429.836\n",
      "Accuracy = 0.23582089\n",
      "Step #5\n",
      "Loss = -40694.9\n",
      "Accuracy = 0.25820896\n",
      "Step #6\n",
      "Loss = -46159.117\n",
      "Accuracy = 0.26119402\n",
      "Step #7\n",
      "Loss = -39537.594\n",
      "Accuracy = 0.26268658\n",
      "Step #8\n",
      "Loss = -44125.58\n",
      "Accuracy = 0.30298507\n",
      "Step #9\n",
      "Loss = -42527.977\n",
      "Accuracy = 0.26716417\n",
      "Step #10\n",
      "Loss = -53602.67\n",
      "Accuracy = 0.2955224\n",
      "Step #11\n",
      "Loss = -44252.367\n",
      "Accuracy = 0.28955224\n",
      "Step #12\n",
      "Loss = -46411.605\n",
      "Accuracy = 0.34179103\n",
      "Step #13\n",
      "Loss = -50373.65\n",
      "Accuracy = 0.35074627\n",
      "Step #14\n",
      "Loss = -60183.61\n",
      "Accuracy = 0.3552239\n",
      "Step #15\n",
      "Loss = -49427.176\n",
      "Accuracy = 0.34179103\n",
      "Step #16\n",
      "Loss = -48325.53\n",
      "Accuracy = 0.3402985\n",
      "Step #17\n",
      "Loss = -54483.27\n",
      "Accuracy = 0.319403\n",
      "Step #18\n",
      "Loss = -51257.62\n",
      "Accuracy = 0.35074627\n",
      "Step #19\n",
      "Loss = -59475.047\n",
      "Accuracy = 0.39402986\n",
      "Step #20\n",
      "Loss = -56168.24\n",
      "Accuracy = 0.31044775\n"
     ]
    }
   ],
   "source": [
    "# Training loop\n",
    "loss_vec = []\n",
    "batch_accuracy = []\n",
    "for i in range(20):\n",
    "    rand_index = np.random.choice(len(x_vals), size=batch_size)\n",
    "    rand_x = x_vals[rand_index]\n",
    "    rand_y = y_vals[:,rand_index]\n",
    "    sess.run(train_step, feed_dict={x_data: rand_x, y_target: rand_y})\n",
    "    \n",
    "    temp_loss = sess.run(loss, feed_dict={x_data: rand_x, y_target: rand_y})\n",
    "    loss_vec.append(temp_loss)\n",
    "    \n",
    "    acc_temp = sess.run(accuracy, feed_dict={x_data: rand_x,\n",
    "                                             y_target: rand_y,\n",
    "                                             prediction_grid:rand_x})\n",
    "    batch_accuracy.append(acc_temp)\n",
    "    \n",
    "    print('Step #' + str(i+1))\n",
    "    print('Loss = ' + str(temp_loss))\n",
    "    print('Accuracy = ' + str(acc_temp))"
   ]
  },
  {
   "cell_type": "code",
   "execution_count": 12,
   "metadata": {},
   "outputs": [
    {
     "data": {
      "image/png": "[encoded data removed]",
      "text/plain": [
       "<Figure size 432x288 with 1 Axes>"
      ]
     },
     "metadata": {
      "needs_background": "light"
     },
     "output_type": "display_data"
    }
   ],
   "source": [
    "# Plot batch accuracy\n",
    "plt.plot(batch_accuracy, 'k-', label='Accuracy')\n",
    "plt.title('Batch Accuracy')\n",
    "plt.xlabel('Generation')\n",
    "plt.ylabel('Accuracy')\n",
    "plt.legend(loc='lower right')\n",
    "plt.show()"
   ]
  },
  {
   "cell_type": "code",
   "execution_count": 13,
   "metadata": {},
   "outputs": [
    {
     "data": {
      "image/png": "[encoded data removed]",
      "text/plain": [
       "<Figure size 432x288 with 1 Axes>"
      ]
     },
     "metadata": {
      "needs_background": "light"
     },
     "output_type": "display_data"
    }
   ],
   "source": [
    "# Plot loss over time\n",
    "plt.plot(loss_vec, 'k-')\n",
    "plt.title('Loss per Generation')\n",
    "plt.xlabel('Generation')\n",
    "plt.ylabel('Loss')\n",
    "plt.show()"
   ]
  }
 ],
 "metadata": {
  "kernelspec": {
   "display_name": "Python 3",
   "language": "python",
   "name": "python3"
  },
  "language_info": {
   "codemirror_mode": {
    "name": "ipython",
    "version": 3
   },
   "file_extension": ".py",
   "mimetype": "text/x-python",
   "name": "python",
   "nbconvert_exporter": "python",
   "pygments_lexer": "ipython3",
   "version": "3.6.5"
  }
 },
 "nbformat": 4,
 "nbformat_minor": 2
}
