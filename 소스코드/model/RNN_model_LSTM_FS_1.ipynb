{
 "cells": [
  {
   "cell_type": "code",
   "execution_count": 1,
   "metadata": {},
   "outputs": [],
   "source": [
    "import tensorflow as tf\n",
    "import numpy as np\n",
    "import seaborn as sn\n",
    "import pandas as pd\n",
    "import matplotlib.pyplot as plt"
   ]
  },
  {
   "cell_type": "code",
   "execution_count": 2,
   "metadata": {},
   "outputs": [
    {
     "name": "stdout",
     "output_type": "stream",
     "text": [
      "(1608, 13)\n",
      "(402, 13)\n"
     ]
    }
   ],
   "source": [
    "from sklearn.model_selection import train_test_split\n",
    "data = np.loadtxt('../dataset/training_data_LSTM_FS_1_belt.csv', delimiter=',', dtype='float32')\n",
    "train, test = train_test_split(data, test_size=0.2)\n",
    "print(train.shape)\n",
    "print(test.shape)"
   ]
  },
  {
   "cell_type": "code",
   "execution_count": 3,
   "metadata": {},
   "outputs": [],
   "source": [
    "n_input = 12     # 입력데이터의 속성 수\n",
    "n_step = 5       # 한 번에 입력할 데이터 수\n",
    "n_class = 11     # 결과값의 종류 수 (Activity 1~11)\n",
    "batch_size = 1   # 배치 크기 (ex. n_step개 데이터 batch_size묶음이 1배치)\n",
    "n_epoch = 50    # 총 학습 횟수\n",
    "\n",
    "n_hidden = 64\n",
    "learning_rate = 0.01"
   ]
  },
  {
   "cell_type": "code",
   "execution_count": 4,
   "metadata": {},
   "outputs": [
    {
     "name": "stdout",
     "output_type": "stream",
     "text": [
      "321\n",
      "80\n"
     ]
    }
   ],
   "source": [
    "# epoch 당 batch 수 계산\n",
    "train_batch = train.shape[0]//(batch_size*n_step)\n",
    "print(train_batch)\n",
    "test_batch = test.shape[0]//(batch_size*n_step)\n",
    "print(test_batch)"
   ]
  },
  {
   "cell_type": "code",
   "execution_count": 5,
   "metadata": {},
   "outputs": [
    {
     "name": "stdout",
     "output_type": "stream",
     "text": [
      "1608\n",
      "321\n"
     ]
    }
   ],
   "source": [
    "x_train = train[:, :n_input]\n",
    "y_train_temp = train[:, -1]\n",
    "\n",
    "sess = tf.Session()\n",
    "y_train_temp = np.subtract(y_train_temp, np.ones(y_train_temp.shape))\n",
    "y_train_temp = tf.one_hot(y_train_temp, depth=n_class).eval(session=sess)\n",
    "\n",
    "y_train = np.zeros([train_batch, n_class])\n",
    "for i in range(train_batch):\n",
    "    y_train[i] = y_train_temp[n_step * i]\n",
    "\n",
    "x_train = x_train.tolist()\n",
    "y_train = y_train.tolist()\n",
    "\n",
    "print(len(x_train))\n",
    "print(len(y_train))"
   ]
  },
  {
   "cell_type": "code",
   "execution_count": 6,
   "metadata": {},
   "outputs": [
    {
     "name": "stdout",
     "output_type": "stream",
     "text": [
      "402\n",
      "80\n"
     ]
    }
   ],
   "source": [
    "x_test = test[:, :n_input]\n",
    "y_test_temp = test[:, -1]\n",
    "\n",
    "#sess = tf.Session()\n",
    "y_test_temp = np.subtract(y_test_temp, np.ones(y_test_temp.shape))\n",
    "y_test_temp = tf.one_hot(y_test_temp, depth=n_class).eval(session=sess)\n",
    "\n",
    "y_test = np.zeros([test_batch, n_class])\n",
    "for i in range(test_batch):\n",
    "    y_test[i] = y_test_temp[n_step * i]\n",
    "\n",
    "x_test = x_test.tolist()\n",
    "y_test = y_test.tolist()\n",
    "\n",
    "print(len(x_test))\n",
    "print(len(y_test))"
   ]
  },
  {
   "cell_type": "code",
   "execution_count": 7,
   "metadata": {},
   "outputs": [],
   "source": [
    "# 현재 iteration의 batch를 반환하는 함수\n",
    "def get_batch(x, y, iteration, size = batch_size):\n",
    "  start = size*iteration\n",
    "  batch_x = []\n",
    "  batch_y = []\n",
    "  for i in range(size):\n",
    "    batch_x.append(x[(start+i)*n_step:(start+i+1)*n_step])\n",
    "    batch_y.append(y[start+i])\n",
    "  return batch_x, batch_y"
   ]
  },
  {
   "cell_type": "code",
   "execution_count": 8,
   "metadata": {},
   "outputs": [
    {
     "name": "stdout",
     "output_type": "stream",
     "text": [
      "WARNING:tensorflow:From c:\\users\\a jin cho\\appdata\\local\\programs\\python\\python36\\lib\\site-packages\\tensorflow\\python\\framework\\op_def_library.py:263: colocate_with (from tensorflow.python.framework.ops) is deprecated and will be removed in a future version.\n",
      "Instructions for updating:\n",
      "Colocations handled automatically by placer.\n",
      "WARNING:tensorflow:From <ipython-input-8-1f447fa1d163>:8: BasicLSTMCell.__init__ (from tensorflow.python.ops.rnn_cell_impl) is deprecated and will be removed in a future version.\n",
      "Instructions for updating:\n",
      "This class is equivalent as tf.keras.layers.LSTMCell, and will be replaced by that in Tensorflow 2.0.\n",
      "WARNING:tensorflow:From <ipython-input-8-1f447fa1d163>:12: MultiRNNCell.__init__ (from tensorflow.python.ops.rnn_cell_impl) is deprecated and will be removed in a future version.\n",
      "Instructions for updating:\n",
      "This class is equivalent as tf.keras.layers.StackedRNNCells, and will be replaced by that in Tensorflow 2.0.\n",
      "WARNING:tensorflow:From <ipython-input-8-1f447fa1d163>:14: dynamic_rnn (from tensorflow.python.ops.rnn) is deprecated and will be removed in a future version.\n",
      "Instructions for updating:\n",
      "Please use `keras.layers.RNN(cell)`, which is equivalent to this API\n",
      "WARNING:tensorflow:From c:\\users\\a jin cho\\appdata\\local\\programs\\python\\python36\\lib\\site-packages\\tensorflow\\python\\ops\\rnn_cell_impl.py:1259: calling dropout (from tensorflow.python.ops.nn_ops) with keep_prob is deprecated and will be removed in a future version.\n",
      "Instructions for updating:\n",
      "Please use `rate` instead of `keep_prob`. Rate should be set to `rate = 1 - keep_prob`.\n"
     ]
    }
   ],
   "source": [
    "# RNN 구성\n",
    "X = tf.placeholder(tf.float32, [None, n_step, n_input], name='x')\n",
    "Y = tf.placeholder(tf.int32, [None, n_class], name='y')\n",
    "\n",
    "W = tf.Variable(tf.truncated_normal([n_hidden, n_class]))\n",
    "b = tf.Variable(tf.truncated_normal([n_class]))\n",
    "\n",
    "cell1 = tf.nn.rnn_cell.BasicLSTMCell(n_hidden)\n",
    "cell1 = tf.nn.rnn_cell.DropoutWrapper(cell1, output_keep_prob=0.7)\n",
    "cell2 = tf.nn.rnn_cell.BasicLSTMCell(n_hidden)\n",
    "\n",
    "multi_cell = tf.nn.rnn_cell.MultiRNNCell([cell1, cell2])\n",
    "\n",
    "output, state = tf.nn.dynamic_rnn(multi_cell, X, dtype=tf.float32)\n",
    "output = tf.transpose(output, [1,0,2])\n",
    "output = output[-1]\n",
    "\n",
    "model = tf.matmul(output, W) + b"
   ]
  },
  {
   "cell_type": "code",
   "execution_count": 9,
   "metadata": {},
   "outputs": [],
   "source": [
    "cost = tf.reduce_mean(tf.nn.softmax_cross_entropy_with_logits_v2(logits=model, labels=Y))\n",
    "optimizer = tf.train.AdamOptimizer(learning_rate).minimize(cost)"
   ]
  },
  {
   "cell_type": "code",
   "execution_count": 10,
   "metadata": {},
   "outputs": [],
   "source": [
    "is_correct = tf.equal(tf.argmax(model, 1), tf.argmax(Y, 1))\n",
    "accuracy = tf.reduce_mean(tf.cast(is_correct, tf.float32))"
   ]
  },
  {
   "cell_type": "code",
   "execution_count": 11,
   "metadata": {
    "scrolled": false
   },
   "outputs": [
    {
     "name": "stdout",
     "output_type": "stream",
     "text": [
      "epoch: 1, avg.loss: 2.622215\n",
      "epoch: 2, avg.loss: 2.168701\n",
      "epoch: 3, avg.loss: 1.989517\n",
      "epoch: 4, avg.loss: 1.769290\n",
      "epoch: 5, avg.loss: 1.670878\n",
      "epoch: 6, avg.loss: 1.450808\n",
      "epoch: 7, avg.loss: 1.318434\n",
      "epoch: 8, avg.loss: 1.336429\n",
      "epoch: 9, avg.loss: 1.200173\n",
      "epoch: 10, avg.loss: 0.990355\n",
      "epoch: 11, avg.loss: 0.982446\n",
      "epoch: 12, avg.loss: 0.880620\n",
      "epoch: 13, avg.loss: 0.641614\n",
      "epoch: 14, avg.loss: 0.561151\n",
      "epoch: 15, avg.loss: 0.655914\n",
      "epoch: 16, avg.loss: 0.660117\n",
      "epoch: 17, avg.loss: 0.643070\n",
      "epoch: 18, avg.loss: 0.510724\n",
      "epoch: 19, avg.loss: 0.465543\n",
      "epoch: 20, avg.loss: 0.385042\n",
      "epoch: 21, avg.loss: 0.667916\n",
      "epoch: 22, avg.loss: 0.491604\n",
      "epoch: 23, avg.loss: 0.612139\n",
      "epoch: 24, avg.loss: 0.486887\n",
      "epoch: 25, avg.loss: 0.448806\n",
      "epoch: 26, avg.loss: 0.587179\n",
      "epoch: 27, avg.loss: 0.388539\n",
      "epoch: 28, avg.loss: 0.421516\n",
      "epoch: 29, avg.loss: 0.403317\n",
      "epoch: 30, avg.loss: 0.283682\n",
      "epoch: 31, avg.loss: 0.324552\n",
      "epoch: 32, avg.loss: 0.501751\n",
      "epoch: 33, avg.loss: 0.460875\n",
      "epoch: 34, avg.loss: 0.416207\n",
      "epoch: 35, avg.loss: 0.584281\n",
      "epoch: 36, avg.loss: 0.378242\n",
      "epoch: 37, avg.loss: 0.332363\n",
      "epoch: 38, avg.loss: 0.454560\n",
      "epoch: 39, avg.loss: 0.378352\n",
      "epoch: 40, avg.loss: 0.448727\n",
      "epoch: 41, avg.loss: 0.437797\n",
      "epoch: 42, avg.loss: 0.400986\n",
      "epoch: 43, avg.loss: 0.286623\n",
      "epoch: 44, avg.loss: 0.410880\n",
      "epoch: 45, avg.loss: 0.448450\n",
      "epoch: 46, avg.loss: 0.526156\n",
      "epoch: 47, avg.loss: 0.526107\n",
      "epoch: 48, avg.loss: 0.499189\n",
      "epoch: 49, avg.loss: 0.534434\n",
      "epoch: 50, avg.loss: 0.538777\n",
      "---train accuracy: 0.847352,\n",
      "---test accuracy: 0.387500,\n",
      "WARNING:tensorflow:From c:\\users\\a jin cho\\appdata\\local\\programs\\python\\python36\\lib\\site-packages\\tensorflow\\python\\ops\\confusion_matrix.py:193: to_int64 (from tensorflow.python.ops.math_ops) is deprecated and will be removed in a future version.\n",
      "Instructions for updating:\n",
      "Use tf.cast instead.\n",
      "WARNING:tensorflow:From c:\\users\\a jin cho\\appdata\\local\\programs\\python\\python36\\lib\\site-packages\\tensorflow\\python\\ops\\confusion_matrix.py:194: to_int32 (from tensorflow.python.ops.math_ops) is deprecated and will be removed in a future version.\n",
      "Instructions for updating:\n",
      "Use tf.cast instead.\n"
     ]
    },
    {
     "data": {
      "image/png": "[encoded data removed]",
      "text/plain": [
       "<Figure size 432x288 with 2 Axes>"
      ]
     },
     "metadata": {},
     "output_type": "display_data"
    }
   ],
   "source": [
    "# 세션 실행\n",
    "with tf.Session() as sess:\n",
    "  tf.global_variables_initializer().run()\n",
    "\n",
    "  # 학습\n",
    "  for i in range(n_epoch):\n",
    "    total_loss = 0\n",
    "    for j in range(train_batch):\n",
    "      batch_x, batch_y = get_batch(x_train, y_train, j)\n",
    "      _, loss = sess.run([optimizer, cost], feed_dict={X: batch_x, Y: batch_y})\n",
    "      total_loss += loss\n",
    "    print('epoch: %d, avg.loss: %f'%(i+1, total_loss/train_batch)) \n",
    "\n",
    "  # 모델 테스트\n",
    "  total_acc = 0\n",
    "  for k in range(train_batch):\n",
    "    test_x, test_y = get_batch(x_train, y_train, k)\n",
    "    acc = sess.run(accuracy, feed_dict={X: test_x, Y: test_y})\n",
    "    total_acc += acc\n",
    "  print('---train accuracy: %f,'%(total_acc/train_batch))\n",
    "\n",
    "  # 테스트\n",
    "  total_acc = 0\n",
    "  for k in range(test_batch):\n",
    "    test_x, test_y = get_batch(x_test, y_test, k)\n",
    "    acc = sess.run(accuracy, feed_dict={X: test_x, Y: test_y})\n",
    "    total_acc += acc\n",
    "  print('---test accuracy: %f,'%(total_acc/test_batch))\n",
    "    \n",
    "  # confusion matrix\n",
    "  train_x, train_y = get_batch(x_train, y_train, 0, train_batch)\n",
    "  cm = tf.confusion_matrix(tf.argmax(train_y, 1), tf.argmax(sess.run(model, feed_dict={X: train_x, Y: train_y}), 1), n_class)\n",
    "  test_x, test_y = get_batch(x_test, y_test, 0, test_batch)\n",
    "  cm += tf.confusion_matrix(tf.argmax(test_y, 1), tf.argmax(sess.run(model, feed_dict={X: test_x, Y: test_y}), 1), n_class)\n",
    "  df_cm = pd.DataFrame(sess.run(cm), range(n_class), range(n_class))\n",
    "  # plt.figure(figsize = (10,7))\n",
    "  sn.set(font_scale=1.4) # for label size\n",
    "  sn.heatmap(df_cm, annot=True, annot_kws={\"size\": 16}) # font size\n",
    "    \n",
    "  sess.close()"
   ]
  }
 ],
 "metadata": {
  "kernelspec": {
   "display_name": "Python 3",
   "language": "python",
   "name": "python3"
  },
  "language_info": {
   "codemirror_mode": {
    "name": "ipython",
    "version": 3
   },
   "file_extension": ".py",
   "mimetype": "text/x-python",
   "name": "python",
   "nbconvert_exporter": "python",
   "pygments_lexer": "ipython3",
   "version": "3.6.5"
  }
 },
 "nbformat": 4,
 "nbformat_minor": 2
}
