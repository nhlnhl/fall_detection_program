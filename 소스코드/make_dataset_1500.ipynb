{
 "cells": [
  {
   "cell_type": "code",
   "execution_count": 1,
   "metadata": {},
   "outputs": [],
   "source": [
    "import pandas as pd\n",
    "import random"
   ]
  },
  {
   "cell_type": "code",
   "execution_count": 2,
   "metadata": {},
   "outputs": [],
   "source": [
    "def make_empty_dict(keys):\n",
    "    tmp_dict = {}\n",
    "    for key in keys:\n",
    "        tmp_dict[key] = []\n",
    "    return tmp_dict"
   ]
  },
  {
   "cell_type": "code",
   "execution_count": 3,
   "metadata": {},
   "outputs": [],
   "source": [
    "idf = pd.read_csv(\"CompleteDataSet_training_competition.csv\")\n",
    "odfs = []\n",
    "start_idx = 0\n",
    "end_idx = idf['Activity'].count()"
   ]
  },
  {
   "cell_type": "code",
   "execution_count": 4,
   "metadata": {},
   "outputs": [],
   "source": [
    "while start_idx < end_idx:\n",
    "    prev_activity = idf['Activity'][start_idx]\n",
    "    grp_cnt = 1\n",
    "    while start_idx+grp_cnt < end_idx and idf['Activity'][start_idx + grp_cnt] == prev_activity:\n",
    "        grp_cnt += 1\n",
    "    group_end = start_idx + grp_cnt - 1\n",
    "    if grp_cnt >= 3000:\n",
    "        group_end = start_idx + 1499\n",
    "    tmp_df = idf.loc[start_idx:group_end]\n",
    "    if grp_cnt < 1500:\n",
    "        while tmp_df['Activity'].count() != 1500:\n",
    "            idx = random.randrange(0, grp_cnt)\n",
    "            tmp_df = tmp_df.append(tmp_df.loc[idx:idx], ignore_index=True)\n",
    "        tmp_df = tmp_df.sort_values('TimeStamps')\n",
    "        odfs.append(tmp_df)\n",
    "    elif grp_cnt < 3000:\n",
    "        while tmp_df['Activity'].count() != 1500:\n",
    "            idx = random.randrange(0, tmp_df['Activity'].count())\n",
    "            tmp_df = tmp_df.drop(tmp_df.index[idx])\n",
    "        odfs.append(tmp_df)\n",
    "    else:\n",
    "        odfs.append(tmp_df)\n",
    "        tmp_df = idf.loc[start_idx + 1500:start_idx + 2999]\n",
    "        odfs.append(tmp_df)\n",
    "    start_idx += grp_cnt"
   ]
  },
  {
   "cell_type": "code",
   "execution_count": 5,
   "metadata": {},
   "outputs": [],
   "source": [
    "with open(\"CompleteDataSet_training_competition_1500.csv\", \"a\") as f:\n",
    "    for odf in odfs:\n",
    "        odf.to_csv(f, header=False, index=False)"
   ]
  }
 ],
 "metadata": {
  "kernelspec": {
   "display_name": "Python 3",
   "language": "python",
   "name": "python3"
  },
  "language_info": {
   "codemirror_mode": {
    "name": "ipython",
    "version": 3
   },
   "file_extension": ".py",
   "mimetype": "text/x-python",
   "name": "python",
   "nbconvert_exporter": "python",
   "pygments_lexer": "ipython3",
   "version": "3.6.5"
  }
 },
 "nbformat": 4,
 "nbformat_minor": 2
}
