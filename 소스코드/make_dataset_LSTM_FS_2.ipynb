{
 "cells": [
  {
   "cell_type": "code",
   "execution_count": 1,
   "metadata": {},
   "outputs": [
    {
     "name": "stderr",
     "output_type": "stream",
     "text": [
      "c:\\users\\a jin cho\\appdata\\local\\programs\\python\\python36\\lib\\site-packages\\ipykernel_launcher.py:20: FutureWarning: Method .as_matrix will be removed in a future version. Use .values instead.\n"
     ]
    }
   ],
   "source": [
    "import pandas as pd\n",
    "import numpy as np\n",
    "import math\n",
    "import statistics\n",
    "\n",
    "raw_data = pd.read_csv(\"CompleteDataSet_training_competition_1500.csv\", sep=\",\")\n",
    "\n",
    "data = raw_data[['WristAccelerometer x-axis', 'WristAccelerometer y-axis', 'WristAccelerometer z-axis', 'Activity']]\n",
    "\n",
    "n_step = 1500\n",
    "n_batch = int(data.shape[0] / n_step)\n",
    "\n",
    "# variables used in the paper\n",
    "k = 15\n",
    "t = 3\n",
    "K = 300\n",
    "\n",
    "xyz = 3\n",
    "\n",
    "data = data.as_matrix()\n",
    "calculate = np.zeros([n_batch * int(k / t), 15 + 1])\n",
    "\n",
    "# for each data\n",
    "for i in range(n_batch):\n",
    "    \n",
    "    # for each sliding window\n",
    "    for j in range(int(k / t)):\n",
    "        calculate[int(k / t) * i + j][15] = data[i * n_step][xyz]\n",
    "        \n",
    "        avm = np.zeros([K])\n",
    "        aamvsum = 0\n",
    "        xyzsum = np.zeros([K])\n",
    "        mpi = 0\n",
    "        mvi = 0\n",
    "        saa = np.zeros([xyz])\n",
    "        sma = 0\n",
    "        ta = np.zeros([K, xyz])\n",
    "        tasum = np.zeros([xyz])\n",
    "        tasquare = np.zeros([xyz])\n",
    "        for m in range(K):\n",
    "            avm[m] = math.sqrt(pow(data[i * n_step + j * K + m][0], 2) + pow(data[i * n_step + j * K + m][1], 2) + pow(data[i * n_step + j * K + m][2], 2))\n",
    "            xyzsum[m] = data[i * n_step + j * K + m][0] + data[i * n_step + j * K + m][1] + data[i * n_step + j * K + m][2]\n",
    "            if m != 0:\n",
    "                if xyzsum[m] > xyzsum[mpi]:\n",
    "                    mpi = m\n",
    "                if xyzsum[m] < xyzsum[mvi]:\n",
    "                    mvi = m\n",
    "                aamvsum += abs(avm[m] - avm[m - 1])\n",
    "            \n",
    "            for n in range(xyz):\n",
    "                saa[n] += data[i * n_step + j * K + m][n]\n",
    "                sma += data[i * n_step + j * K + m][n]\n",
    "                ta[m][n] = math.acos(data[i * n_step + j * K + m][n] / avm[m])\n",
    "                tasum[n] += ta[m][n]\n",
    "                tasquare[n] += pow(ta[m][n], 2)\n",
    "            \n",
    "        calculate[int(k / t) * i + j][0] = aamvsum / K\n",
    "        calculate[int(k / t) * i + j][1] = 0\n",
    "        calculate[int(k / t) * i + j][2] = mpi\n",
    "        calculate[int(k / t) * i + j][3] = mvi\n",
    "        calculate[int(k / t) * i + j][4] = j\n",
    "        calculate[int(k / t) * i + j][5] = sma / K\n",
    "        calculate[int(k / t) * i + j][6] = statistics.median(xyzsum)\n",
    "        calculate[int(k / t) * i + j][7] = K\n",
    "        calculate[int(k / t) * i + j][8] = saa[0]\n",
    "        calculate[int(k / t) * i + j][9] = saa[1]\n",
    "        calculate[int(k / t) * i + j][10] = saa[2]\n",
    "        calculate[int(k / t) * i + j][11] = sma\n",
    "        calculate[int(k / t) * i + j][12] = (tasquare[0] - tasum[0] * tasum[0] / K) / (K - 1)\n",
    "        calculate[int(k / t) * i + j][13] = (tasquare[1] - tasum[1] * tasum[1] / K) / (K - 1)\n",
    "        calculate[int(k / t) * i + j][14] = (tasquare[2] - tasum[2] * tasum[2] / K) / (K - 1)\n",
    "                \n",
    "data = pd.DataFrame(calculate)\n",
    "\n",
    "data.to_csv(\"./dataset/training_data_LSTM_FS_2_wrist.csv\", sep=\",\", header=False, index=False)"
   ]
  }
 ],
 "metadata": {
  "kernelspec": {
   "display_name": "Python 3",
   "language": "python",
   "name": "python3"
  },
  "language_info": {
   "codemirror_mode": {
    "name": "ipython",
    "version": 3
   },
   "file_extension": ".py",
   "mimetype": "text/x-python",
   "name": "python",
   "nbconvert_exporter": "python",
   "pygments_lexer": "ipython3",
   "version": "3.6.5"
  }
 },
 "nbformat": 4,
 "nbformat_minor": 2
}
